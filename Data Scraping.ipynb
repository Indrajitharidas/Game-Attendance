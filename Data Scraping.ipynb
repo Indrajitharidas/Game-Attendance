{
 "cells": [
  {
   "cell_type": "code",
   "execution_count": null,
   "metadata": {
    "collapsed": false
   },
   "outputs": [],
   "source": [
    "import re\n",
    "import datetime\n",
    "from bs4 import BeautifulSoup\n",
    "import urllib.request\n",
    "import pandas as pd\n",
    "import numpy as np\n",
    "from time import sleep"
   ]
  },
  {
   "cell_type": "code",
   "execution_count": null,
   "metadata": {
    "collapsed": true
   },
   "outputs": [],
   "source": [
    "def printProgressBar (iteration, total, prefix = '', suffix = '', decimals = 1, length = 100, fill = '█'):\n",
    "    \"\"\"\n",
    "    Call in a loop to create terminal progress bar\n",
    "    @params:\n",
    "        iteration   - Required  : current iteration (Int)\n",
    "        total       - Required  : total iterations (Int)\n",
    "        prefix      - Optional  : prefix string (Str)\n",
    "        suffix      - Optional  : suffix string (Str)\n",
    "        decimals    - Optional  : positive number of decimals in percent complete (Int)\n",
    "        length      - Optional  : character length of bar (Int)\n",
    "        fill        - Optional  : bar fill character (Str)\n",
    "    \"\"\"\n",
    "    percent = (\"{0:.\" + str(decimals) + \"f}\").format(100 * (iteration / float(total)))\n",
    "    filledLength = int(length * iteration // total)\n",
    "    bar = fill * filledLength + '-' * (length - filledLength)\n",
    "    print('\\r %s |%s| %s%% %s' % (prefix, bar, percent, suffix), end=\"\")\n",
    "    if iteration == total: \n",
    "        print()"
   ]
  },
  {
   "cell_type": "code",
   "execution_count": null,
   "metadata": {
    "collapsed": false
   },
   "outputs": [],
   "source": [
    "affx = 'http://www.espn.com/nba/game?gameId='\n",
    "output = []\n",
    "num_match = 8000\n",
    "end_web = 400860570\n",
    "counts = 0\n",
    "errors = 0  \n",
    "for webs in range(end_web - num_match, end_web+1):\n",
    "        urls = affx + str(webs)\n",
    "        try:\n",
    "            r = urllib.request.urlopen(urls).read()\n",
    "            soup = BeautifulSoup(r, \"lxml\")\n",
    "            info_note = soup.find_all(\"div\", class_=\"game-info-note capacity\")\n",
    "            if len(info_note) > 1:\n",
    "                attendance_group = re.search(\"Attendance:\\s(\\d*),*(\\d+)\", info_note[0].text)\n",
    "                capacity_group = re.search(\"Capacity:\\s(\\d*),*(\\d+)\", info_note[1].text)\n",
    "                date_origin = soup.findAll(\"span\", attrs={\"data-behavior\":\"date_time\"})[0][\"data-date\"]\n",
    "                team_group = re.search(\"(\\w+)\\svs.\\s(\\w+)\\s\", soup.title.text)\n",
    "\n",
    "                date = datetime.datetime.strptime(date_origin, \"%Y-%m-%dT%H:%MZ\") \\\n",
    "                       + datetime.timedelta(hours=19)\n",
    "                try :\n",
    "                    string = soup.find_all(\"div\", class_=\"caption-wrapper\")[0].text\n",
    "                    game_center = re.search(\"[^\\\\t\\\\n]+\", string).group(0)\n",
    "                except IndexError:\n",
    "                    game_center = soup.find_all(\"div\", class_=\"location-details\")[0].span.text\n",
    "                geo_location = re.search(\"[^\\\\t\\\\n]+\", \\\n",
    "                                         soup.find_all(\"li\", \\\n",
    "                                         class_=\"icon-font-before icon-location-solid-before\") \\\n",
    "                                         [0].text).group(0)\n",
    "                attendance = int(attendance_group.group(1) + attendance_group.group(2))\n",
    "                capacity = int(capacity_group.group(1) + capacity_group.group(2))\n",
    "                home = team_group.group(1)\n",
    "                guest = team_group.group(2)\n",
    "                output.append([date, game_center, geo_location, attendance, capacity, home, guest])\n",
    "                sleep(2)\n",
    "        except urllib.error.URLError:\n",
    "            errors += 1\n",
    "            print (\"\\r errors %d\" %(errors), end=\"\")\n",
    "            print ()\n",
    "        counts += 1\n",
    "        printProgressBar(counts, num_match, prefix = 'Progress:', suffix = 'Complete', length = 10)\n",
    "        print()"
   ]
  },
  {
   "cell_type": "code",
   "execution_count": null,
   "metadata": {
    "collapsed": false
   },
   "outputs": [],
   "source": [
    "part_1 = pd.DataFrame(output)\n",
    "part_1 = part_1.rename(columns={0:\"date\", 1:\"game_center\", 2:\"geo_location\", \n",
    "                               3:\"attendance\", 4:\"capacity\", 5:\"home\", 6:\"guest\"})\n",
    "part_1.to_csv(\"part_5.csv\")"
   ]
  }
 ],
 "metadata": {
  "anaconda-cloud": {},
  "kernelspec": {
   "display_name": "Python [conda root]",
   "language": "python",
   "name": "conda-root-py"
  },
  "language_info": {
   "codemirror_mode": {
    "name": "ipython",
    "version": 3
   },
   "file_extension": ".py",
   "mimetype": "text/x-python",
   "name": "python",
   "nbconvert_exporter": "python",
   "pygments_lexer": "ipython3",
   "version": "3.5.2"
  }
 },
 "nbformat": 4,
 "nbformat_minor": 0
}
