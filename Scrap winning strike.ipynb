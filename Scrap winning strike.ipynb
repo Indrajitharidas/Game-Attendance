{
 "cells": [
  {
   "cell_type": "code",
   "execution_count": 12,
   "metadata": {
    "collapsed": true
   },
   "outputs": [],
   "source": [
    "import re\n",
    "import datetime\n",
    "from bs4 import BeautifulSoup\n",
    "import urllib.request\n",
    "import pandas as pd\n",
    "import numpy as np\n",
    "from time import sleep\n",
    "import os\n",
    "import calendar"
   ]
  },
  {
   "cell_type": "code",
   "execution_count": 128,
   "metadata": {
    "collapsed": true
   },
   "outputs": [],
   "source": [
    "season_2015 = pd.read_csv(os.path.join(\"data\", \"season-2015-16.csv\"), parse_dates=[\"date\"])\n",
    "season_2016 = pd.read_csv(os.path.join(\"data\", \"game_raw.csv\"), parse_dates=[\"date\"])"
   ]
  },
  {
   "cell_type": "code",
   "execution_count": 145,
   "metadata": {
    "collapsed": false
   },
   "outputs": [],
   "source": [
    "all_teams = list(set(np.hstack((season_2015[\"home\"].unique(),\n",
    "                              season_2015[\"guest\"].unique(),\n",
    "                              season_2016[\"home\"].unique(),\n",
    "                              season_2016[\"guest\"].unique()))))"
   ]
  },
  {
   "cell_type": "code",
   "execution_count": 152,
   "metadata": {
    "collapsed": false
   },
   "outputs": [],
   "source": [
    "all_teams = [s.lower() for s in all_teams]"
   ]
  },
  {
   "cell_type": "code",
   "execution_count": 116,
   "metadata": {
    "collapsed": true
   },
   "outputs": [],
   "source": [
    "pattern_date = re.compile(\"\\w{3}\\s\\d{1,2},\\s\\d{4}\")\n",
    "pattern_streak = re.compile(\"(\\w{3,4})\\s(\\d+)\")"
   ]
  },
  {
   "cell_type": "code",
   "execution_count": 182,
   "metadata": {
    "collapsed": true
   },
   "outputs": [],
   "source": [
    "all_streaks = {2015:0, 2016:0}"
   ]
  },
  {
   "cell_type": "code",
   "execution_count": 197,
   "metadata": {
    "collapsed": false
   },
   "outputs": [],
   "source": [
    "for year in [2015, 2016]:\n",
    "    team_dict = {}\n",
    "    for team_ in all_teams:\n",
    "        year_str = str(year) + \"_\" + str(year+1) + \"_\"\n",
    "        url_ = \"http://www.landofbasketball.com/results_by_team/\" + year_str + team_ + \".htm\"\n",
    "        r = urllib.request.urlopen(url_).read()\n",
    "        soup = BeautifulSoup(r, \"lxml\")\n",
    "        if soup.find_all(\"td\", class_=\"a-center\", text=pattern_streak):\n",
    "            all_date = [content.text.strip() for content in soup.find_all(\"td\", text=pattern_date)]\n",
    "            all_streak = [re.search(pattern_streak,\n",
    "                                    content.text).group(0) for content in soup.find_all(\"td\", \n",
    "                                                                        class_=\"a-center\",\n",
    "                                                                        text=pattern_streak)]\n",
    "            conv_date = [datetime.datetime.strptime(date_, \"%b %d, %Y\").date() for date_ in all_date]\n",
    "            streak = [int(re.search(pattern_streak, s).group(2)) \\\n",
    "                      if \"won\" in s else -int(re.search(pattern_streak, s).group(2)) \\\n",
    "                      for s in all_streak]\n",
    "            team_dict.setdefault(team_, dict(zip(conv_date, streak)))\n",
    "    all_streaks[year] = team_dict"
   ]
  },
  {
   "cell_type": "code",
   "execution_count": 249,
   "metadata": {
    "collapsed": true
   },
   "outputs": [],
   "source": [
    "def streak_map(data, year, team):\n",
    "    try:\n",
    "        streak_ = all_streaks[year][data[team].lower()] \\\n",
    "                              [data[\"date\"].date() - datetime.timedelta(days=1)]\n",
    "    except KeyError:\n",
    "        streak_ = 0\n",
    "    return streak_"
   ]
  },
  {
   "cell_type": "code",
   "execution_count": 252,
   "metadata": {
    "collapsed": false
   },
   "outputs": [],
   "source": [
    "season_2015[\"streak_home\"] = season_2015.apply(lambda x: streak_map(x, 2015, \"home\"), axis=1)\n",
    "season_2015[\"streak_guest\"] = season_2015.apply(lambda x: streak_map(x, 2015, \"guest\"), axis=1)\n",
    "season_2016[\"streak_home\"] = season_2016.apply(lambda x: streak_map(x, 2016, \"home\"), axis=1)\n",
    "season_2016[\"streak_guest\"] = season_2016.apply(lambda x: streak_map(x, 2016, \"guest\"), axis=1)"
   ]
  },
  {
   "cell_type": "code",
   "execution_count": 257,
   "metadata": {
    "collapsed": true
   },
   "outputs": [],
   "source": [
    "season_2015.to_csv(\"data/input_2015.csv\")\n",
    "season_2016.to_csv(\"data/input_2016.csv\")"
   ]
  }
 ],
 "metadata": {
  "anaconda-cloud": {},
  "kernelspec": {
   "display_name": "Python [conda root]",
   "language": "python",
   "name": "conda-root-py"
  },
  "language_info": {
   "codemirror_mode": {
    "name": "ipython",
    "version": 3
   },
   "file_extension": ".py",
   "mimetype": "text/x-python",
   "name": "python",
   "nbconvert_exporter": "python",
   "pygments_lexer": "ipython3",
   "version": "3.5.2"
  }
 },
 "nbformat": 4,
 "nbformat_minor": 1
}
