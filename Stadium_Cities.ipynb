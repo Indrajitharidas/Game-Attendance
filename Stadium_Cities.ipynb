{
 "cells": [
  {
   "cell_type": "markdown",
   "metadata": {},
   "source": [
    "#### pre-processing geo, map & urban characteristics"
   ]
  },
  {
   "cell_type": "code",
   "execution_count": 1,
   "metadata": {
    "collapsed": true
   },
   "outputs": [],
   "source": [
    "import sys\n",
    "import os\n",
    "#import json\n",
    "import csv\n",
    "import pandas as pd\n",
    "import numpy as np\n",
    "\n",
    "\n",
    "from pgmpy.estimators import HillClimbSearch\n",
    "from pgmpy.estimators import BdeuScore, K2Score, BicScore\n",
    "from pgmpy.models import BayesianModel\n",
    "from pgmpy.estimators import MaximumLikelihoodEstimator, BayesianEstimator\n",
    "from pgmpy.inference import VariableElimination\n",
    "\n",
    "#from mpl_toolkits.mplot3d import Axes3D\n",
    "\n",
    "from sklearn.gaussian_process import GaussianProcessRegressor\n",
    "from sklearn.gaussian_process.kernels import RBF, ConstantKernel,WhiteKernel\n",
    "from sklearn.cluster import KMeans\n",
    "import sklearn.datasets as data\n",
    "import sklearn.cluster as cluster\n",
    "from sklearn import datasets\n",
    "from sklearn.cluster import DBSCAN\n",
    "from sklearn.decomposition import PCA\n",
    "from sklearn.mixture import GaussianMixture\n",
    "from sklearn.cluster import KMeans\n",
    "#from sklearn.neighbors import LocalOutlierFactor\n",
    "\n",
    "#from sklearn.datasets.samples_generator import make_blobs\n",
    "from itertools import compress\n",
    "\n",
    "from subprocess import check_output\n",
    "#from wordcloud import WordCloud, STOPWORDS\n",
    "\n",
    "\n",
    "#import time\n",
    "\n",
    "import scipy as sy\n",
    "from scipy import stats\n",
    "from pylab import rcParams\n",
    "\n",
    "import geopandas as gp\n",
    "from fiona.crs import from_epsg\n",
    "import shapely as shp\n",
    "from shapely.geometry import Point\n",
    "\n",
    "from matplotlib import pyplot as plt\n",
    "%matplotlib inline"
   ]
  },
  {
   "cell_type": "code",
   "execution_count": 14,
   "metadata": {
    "collapsed": true
   },
   "outputs": [],
   "source": [
    "HHI = pd.read_csv('HH_Income.csv')"
   ]
  },
  {
   "cell_type": "code",
   "execution_count": 15,
   "metadata": {
    "collapsed": false
   },
   "outputs": [],
   "source": [
    "population = pd.read_csv('Stadiums_Loc_Pop.csv')"
   ]
  },
  {
   "cell_type": "code",
   "execution_count": 20,
   "metadata": {
    "collapsed": false
   },
   "outputs": [],
   "source": [
    "geo_stats = population.merge(HHI,on='geo_location',how='inner')"
   ]
  },
  {
   "cell_type": "code",
   "execution_count": 33,
   "metadata": {
    "collapsed": false
   },
   "outputs": [
    {
     "data": {
      "text/html": [
       "<div>\n",
       "<table border=\"1\" class=\"dataframe\">\n",
       "  <thead>\n",
       "    <tr style=\"text-align: right;\">\n",
       "      <th></th>\n",
       "      <th>game_center</th>\n",
       "      <th>geo_location</th>\n",
       "      <th>population_2015</th>\n",
       "      <th>land_miles</th>\n",
       "      <th>density_per_mile</th>\n",
       "      <th>HH_Income</th>\n",
       "    </tr>\n",
       "  </thead>\n",
       "  <tbody>\n",
       "    <tr>\n",
       "      <th>0</th>\n",
       "      <td>Golden 1 Center</td>\n",
       "      <td>SACRAMENTO, CA</td>\n",
       "      <td>490,712.00</td>\n",
       "      <td>97.90</td>\n",
       "      <td>5,012.38</td>\n",
       "      <td>46,106.00</td>\n",
       "    </tr>\n",
       "    <tr>\n",
       "      <th>1</th>\n",
       "      <td>Greensboro Coliseum</td>\n",
       "      <td>Greensboro, NC</td>\n",
       "      <td>269,666.00</td>\n",
       "      <td>126.48</td>\n",
       "      <td>2,132.00</td>\n",
       "      <td>40,913.00</td>\n",
       "    </tr>\n",
       "    <tr>\n",
       "      <th>2</th>\n",
       "      <td>Mullins Center</td>\n",
       "      <td>Amherst, MA</td>\n",
       "      <td>37,819.00</td>\n",
       "      <td>27.80</td>\n",
       "      <td>1,360.40</td>\n",
       "      <td>52,537.00</td>\n",
       "    </tr>\n",
       "    <tr>\n",
       "      <th>3</th>\n",
       "      <td>Air Canada Centre</td>\n",
       "      <td>Toronto, ON</td>\n",
       "      <td>2,731,571.00</td>\n",
       "      <td>243.33</td>\n",
       "      <td>11,225.79</td>\n",
       "      <td>58,381.00</td>\n",
       "    </tr>\n",
       "    <tr>\n",
       "      <th>4</th>\n",
       "      <td>United Center</td>\n",
       "      <td>Chicago, IL</td>\n",
       "      <td>2,720,546.00</td>\n",
       "      <td>227.60</td>\n",
       "      <td>11,953.19</td>\n",
       "      <td>51,046.00</td>\n",
       "    </tr>\n",
       "    <tr>\n",
       "      <th>5</th>\n",
       "      <td>Bankers Life Fieldhouse</td>\n",
       "      <td>Indianapolis, IN</td>\n",
       "      <td>853,173.00</td>\n",
       "      <td>361.40</td>\n",
       "      <td>2,360.74</td>\n",
       "      <td>45,548.00</td>\n",
       "    </tr>\n",
       "    <tr>\n",
       "      <th>6</th>\n",
       "      <td>BMO Harris Bradley Center</td>\n",
       "      <td>Milwaukee, WI</td>\n",
       "      <td>559,121.00</td>\n",
       "      <td>187.70</td>\n",
       "      <td>2,978.80</td>\n",
       "      <td>46,132.00</td>\n",
       "    </tr>\n",
       "    <tr>\n",
       "      <th>7</th>\n",
       "      <td>The Palace of Auburn Hills</td>\n",
       "      <td>Detroit, MI</td>\n",
       "      <td>677,116.00</td>\n",
       "      <td>138.80</td>\n",
       "      <td>4,878.36</td>\n",
       "      <td>49,160.00</td>\n",
       "    </tr>\n",
       "    <tr>\n",
       "      <th>8</th>\n",
       "      <td>Philips Arena</td>\n",
       "      <td>Atlanta, GA</td>\n",
       "      <td>463,878.00</td>\n",
       "      <td>133.20</td>\n",
       "      <td>3,482.57</td>\n",
       "      <td>51,948.00</td>\n",
       "    </tr>\n",
       "    <tr>\n",
       "      <th>9</th>\n",
       "      <td>Wells Fargo Center</td>\n",
       "      <td>Philadelphia, PA</td>\n",
       "      <td>1,567,442.00</td>\n",
       "      <td>134.10</td>\n",
       "      <td>11,688.61</td>\n",
       "      <td>47,528.00</td>\n",
       "    </tr>\n",
       "    <tr>\n",
       "      <th>10</th>\n",
       "      <td>FedExForum</td>\n",
       "      <td>Memphis, TN</td>\n",
       "      <td>655,770.00</td>\n",
       "      <td>315.10</td>\n",
       "      <td>2,081.15</td>\n",
       "      <td>40,201.00</td>\n",
       "    </tr>\n",
       "    <tr>\n",
       "      <th>11</th>\n",
       "      <td>Quicken Loans Arena</td>\n",
       "      <td>Cleveland, OH</td>\n",
       "      <td>388,072.00</td>\n",
       "      <td>77.70</td>\n",
       "      <td>4,994.49</td>\n",
       "      <td>42,215.00</td>\n",
       "    </tr>\n",
       "    <tr>\n",
       "      <th>12</th>\n",
       "      <td>Amway Center</td>\n",
       "      <td>Orlando, FL</td>\n",
       "      <td>270,934.00</td>\n",
       "      <td>102.40</td>\n",
       "      <td>2,645.84</td>\n",
       "      <td>41,871.00</td>\n",
       "    </tr>\n",
       "    <tr>\n",
       "      <th>13</th>\n",
       "      <td>AT&amp;T Center</td>\n",
       "      <td>San Antonio, TX</td>\n",
       "      <td>1,469,845.00</td>\n",
       "      <td>460.90</td>\n",
       "      <td>3,189.08</td>\n",
       "      <td>39,140.00</td>\n",
       "    </tr>\n",
       "    <tr>\n",
       "      <th>14</th>\n",
       "      <td>Mohegan Sun Arena</td>\n",
       "      <td>Uncasville, CT</td>\n",
       "      <td>19,571.00</td>\n",
       "      <td>44.20</td>\n",
       "      <td>442.78</td>\n",
       "      <td>55,086.00</td>\n",
       "    </tr>\n",
       "    <tr>\n",
       "      <th>15</th>\n",
       "      <td>Madison Square Garden</td>\n",
       "      <td>New York, NY</td>\n",
       "      <td>8,550,405.00</td>\n",
       "      <td>302.60</td>\n",
       "      <td>28,256.46</td>\n",
       "      <td>59,799.00</td>\n",
       "    </tr>\n",
       "    <tr>\n",
       "      <th>16</th>\n",
       "      <td>TD Garden</td>\n",
       "      <td>Boston, MA</td>\n",
       "      <td>667,137.00</td>\n",
       "      <td>48.30</td>\n",
       "      <td>13,812.36</td>\n",
       "      <td>52,792.00</td>\n",
       "    </tr>\n",
       "    <tr>\n",
       "      <th>17</th>\n",
       "      <td>Talking Stick Resort Arena</td>\n",
       "      <td>Phoenix, AZ</td>\n",
       "      <td>1,563,025.00</td>\n",
       "      <td>516.70</td>\n",
       "      <td>3,025.01</td>\n",
       "      <td>44,752.00</td>\n",
       "    </tr>\n",
       "    <tr>\n",
       "      <th>18</th>\n",
       "      <td>American Airlines Center</td>\n",
       "      <td>Dallas, TX</td>\n",
       "      <td>1,300,092.00</td>\n",
       "      <td>340.50</td>\n",
       "      <td>3,818.19</td>\n",
       "      <td>47,418.00</td>\n",
       "    </tr>\n",
       "    <tr>\n",
       "      <th>19</th>\n",
       "      <td>Moda Center</td>\n",
       "      <td>Portland, OR</td>\n",
       "      <td>632,309.00</td>\n",
       "      <td>133.40</td>\n",
       "      <td>4,739.95</td>\n",
       "      <td>46,090.00</td>\n",
       "    </tr>\n",
       "    <tr>\n",
       "      <th>20</th>\n",
       "      <td>ORACLE Arena</td>\n",
       "      <td>Oakland, CA</td>\n",
       "      <td>419,267.00</td>\n",
       "      <td>55.90</td>\n",
       "      <td>7,500.30</td>\n",
       "      <td>63,024.00</td>\n",
       "    </tr>\n",
       "    <tr>\n",
       "      <th>21</th>\n",
       "      <td>Spectrum Center</td>\n",
       "      <td>Charlotte, NC</td>\n",
       "      <td>132,609.00</td>\n",
       "      <td>109.00</td>\n",
       "      <td>1,216.60</td>\n",
       "      <td>46,119.00</td>\n",
       "    </tr>\n",
       "    <tr>\n",
       "      <th>22</th>\n",
       "      <td>Target Center</td>\n",
       "      <td>Minneapolis, MN</td>\n",
       "      <td>410,939.00</td>\n",
       "      <td>54.00</td>\n",
       "      <td>7,609.98</td>\n",
       "      <td>54,304.00</td>\n",
       "    </tr>\n",
       "    <tr>\n",
       "      <th>23</th>\n",
       "      <td>Toyota Center</td>\n",
       "      <td>Houston, TX</td>\n",
       "      <td>2,296,224.00</td>\n",
       "      <td>599.60</td>\n",
       "      <td>3,829.59</td>\n",
       "      <td>44,761.00</td>\n",
       "    </tr>\n",
       "    <tr>\n",
       "      <th>24</th>\n",
       "      <td>STAPLES Center</td>\n",
       "      <td>Los Angeles, CA</td>\n",
       "      <td>3,971,883.00</td>\n",
       "      <td>468.70</td>\n",
       "      <td>8,474.25</td>\n",
       "      <td>45,903.00</td>\n",
       "    </tr>\n",
       "    <tr>\n",
       "      <th>25</th>\n",
       "      <td>Vivint Smart Home Arena</td>\n",
       "      <td>Salt Lake City, UT</td>\n",
       "      <td>192,672.00</td>\n",
       "      <td>111.10</td>\n",
       "      <td>1,734.22</td>\n",
       "      <td>48,594.00</td>\n",
       "    </tr>\n",
       "    <tr>\n",
       "      <th>26</th>\n",
       "      <td>Chesapeake Energy Arena</td>\n",
       "      <td>Oklahoma City, OK</td>\n",
       "      <td>419,267.00</td>\n",
       "      <td>55.90</td>\n",
       "      <td>7,500.30</td>\n",
       "      <td>36,797.00</td>\n",
       "    </tr>\n",
       "    <tr>\n",
       "      <th>27</th>\n",
       "      <td>AmericanAirlines Arena</td>\n",
       "      <td>Miami, FL</td>\n",
       "      <td>441,003.00</td>\n",
       "      <td>35.90</td>\n",
       "      <td>12,284.21</td>\n",
       "      <td>38,632.00</td>\n",
       "    </tr>\n",
       "    <tr>\n",
       "      <th>28</th>\n",
       "      <td>Smoothie King Center</td>\n",
       "      <td>New Orleans, LA</td>\n",
       "      <td>389,617.00</td>\n",
       "      <td>169.40</td>\n",
       "      <td>2,299.98</td>\n",
       "      <td>35,317.00</td>\n",
       "    </tr>\n",
       "    <tr>\n",
       "      <th>29</th>\n",
       "      <td>Pepsi Center</td>\n",
       "      <td>Denver, CO</td>\n",
       "      <td>682,545.00</td>\n",
       "      <td>153.00</td>\n",
       "      <td>4,461.08</td>\n",
       "      <td>51,088.00</td>\n",
       "    </tr>\n",
       "    <tr>\n",
       "      <th>30</th>\n",
       "      <td>Verizon Center</td>\n",
       "      <td>Washington, DC</td>\n",
       "      <td>672,228.00</td>\n",
       "      <td>61.00</td>\n",
       "      <td>11,020.13</td>\n",
       "      <td>57,291.00</td>\n",
       "    </tr>\n",
       "  </tbody>\n",
       "</table>\n",
       "</div>"
      ],
      "text/plain": [
       "                   game_center        geo_location population_2015  \\\n",
       "0              Golden 1 Center      SACRAMENTO, CA      490,712.00   \n",
       "1          Greensboro Coliseum      Greensboro, NC      269,666.00   \n",
       "2               Mullins Center         Amherst, MA       37,819.00   \n",
       "3            Air Canada Centre         Toronto, ON    2,731,571.00   \n",
       "4                United Center         Chicago, IL    2,720,546.00   \n",
       "5      Bankers Life Fieldhouse    Indianapolis, IN      853,173.00   \n",
       "6    BMO Harris Bradley Center       Milwaukee, WI      559,121.00   \n",
       "7   The Palace of Auburn Hills         Detroit, MI      677,116.00   \n",
       "8                Philips Arena         Atlanta, GA      463,878.00   \n",
       "9           Wells Fargo Center    Philadelphia, PA    1,567,442.00   \n",
       "10                  FedExForum         Memphis, TN      655,770.00   \n",
       "11         Quicken Loans Arena       Cleveland, OH      388,072.00   \n",
       "12                Amway Center         Orlando, FL      270,934.00   \n",
       "13                 AT&T Center     San Antonio, TX    1,469,845.00   \n",
       "14           Mohegan Sun Arena      Uncasville, CT       19,571.00   \n",
       "15       Madison Square Garden        New York, NY    8,550,405.00   \n",
       "16                   TD Garden          Boston, MA      667,137.00   \n",
       "17  Talking Stick Resort Arena         Phoenix, AZ    1,563,025.00   \n",
       "18    American Airlines Center          Dallas, TX    1,300,092.00   \n",
       "19                 Moda Center        Portland, OR      632,309.00   \n",
       "20                ORACLE Arena         Oakland, CA      419,267.00   \n",
       "21             Spectrum Center       Charlotte, NC      132,609.00   \n",
       "22               Target Center     Minneapolis, MN      410,939.00   \n",
       "23               Toyota Center         Houston, TX    2,296,224.00   \n",
       "24              STAPLES Center     Los Angeles, CA    3,971,883.00   \n",
       "25     Vivint Smart Home Arena  Salt Lake City, UT      192,672.00   \n",
       "26     Chesapeake Energy Arena   Oklahoma City, OK      419,267.00   \n",
       "27      AmericanAirlines Arena           Miami, FL      441,003.00   \n",
       "28        Smoothie King Center     New Orleans, LA      389,617.00   \n",
       "29                Pepsi Center          Denver, CO      682,545.00   \n",
       "30              Verizon Center      Washington, DC      672,228.00   \n",
       "\n",
       "    land_miles density_per_mile  HH_Income  \n",
       "0        97.90         5,012.38  46,106.00  \n",
       "1       126.48         2,132.00  40,913.00  \n",
       "2        27.80         1,360.40  52,537.00  \n",
       "3       243.33        11,225.79  58,381.00  \n",
       "4       227.60        11,953.19  51,046.00  \n",
       "5       361.40         2,360.74  45,548.00  \n",
       "6       187.70         2,978.80  46,132.00  \n",
       "7       138.80         4,878.36  49,160.00  \n",
       "8       133.20         3,482.57  51,948.00  \n",
       "9       134.10        11,688.61  47,528.00  \n",
       "10      315.10         2,081.15  40,201.00  \n",
       "11       77.70         4,994.49  42,215.00  \n",
       "12      102.40         2,645.84  41,871.00  \n",
       "13      460.90         3,189.08  39,140.00  \n",
       "14       44.20           442.78  55,086.00  \n",
       "15      302.60        28,256.46  59,799.00  \n",
       "16       48.30        13,812.36  52,792.00  \n",
       "17      516.70         3,025.01  44,752.00  \n",
       "18      340.50         3,818.19  47,418.00  \n",
       "19      133.40         4,739.95  46,090.00  \n",
       "20       55.90         7,500.30  63,024.00  \n",
       "21      109.00         1,216.60  46,119.00  \n",
       "22       54.00         7,609.98  54,304.00  \n",
       "23      599.60         3,829.59  44,761.00  \n",
       "24      468.70         8,474.25  45,903.00  \n",
       "25      111.10         1,734.22  48,594.00  \n",
       "26       55.90         7,500.30  36,797.00  \n",
       "27       35.90        12,284.21  38,632.00  \n",
       "28      169.40         2,299.98  35,317.00  \n",
       "29      153.00         4,461.08  51,088.00  \n",
       "30       61.00        11,020.13  57,291.00  "
      ]
     },
     "execution_count": 33,
     "metadata": {},
     "output_type": "execute_result"
    }
   ],
   "source": [
    "geo_stats"
   ]
  },
  {
   "cell_type": "code",
   "execution_count": 21,
   "metadata": {
    "collapsed": true
   },
   "outputs": [],
   "source": [
    "stadium_lonlat = pd.read_csv('Stadium_Lon_Lat.csv')\n",
    "stadium_lonlat.drop(['Unnamed: 0','Unnamed: 4'],axis=1,inplace=True)"
   ]
  },
  {
   "cell_type": "code",
   "execution_count": null,
   "metadata": {
    "collapsed": false,
    "scrolled": true
   },
   "outputs": [],
   "source": [
    "#station_city = population[['game_center','geo_location']]\n",
    "#station_city = station_city.drop_duplicates()\n",
    "#station_city.reset_index(drop = True, inplace = True)"
   ]
  },
  {
   "cell_type": "code",
   "execution_count": 23,
   "metadata": {
    "collapsed": false,
    "scrolled": true
   },
   "outputs": [],
   "source": [
    "games_g = geo_stats.merge(stadium_lonlat,on='game_center',how='outer')"
   ]
  },
  {
   "cell_type": "code",
   "execution_count": 24,
   "metadata": {
    "collapsed": false
   },
   "outputs": [
    {
     "data": {
      "text/plain": [
       "{'init': 'epsg:2163', 'no_defs': True}"
      ]
     },
     "execution_count": 24,
     "metadata": {},
     "output_type": "execute_result"
    }
   ],
   "source": [
    "geometry = [Point(xy) for xy in zip(games_g['lon'], games_g['lat'])]\n",
    "games_g = gp.GeoDataFrame(games_g, geometry=geometry)\n",
    "games_g.crs = {'init': 'epsg:4326'}\n",
    "games_g = games_g.to_crs(epsg=2163)\n",
    "games_g.crs"
   ]
  },
  {
   "cell_type": "code",
   "execution_count": 25,
   "metadata": {
    "collapsed": false
   },
   "outputs": [
    {
     "name": "stdout",
     "output_type": "stream",
     "text": [
      "{'init': 'epsg:2163', 'no_defs': True} {'init': 'epsg:2163', 'no_defs': True}\n"
     ]
    }
   ],
   "source": [
    "us_urb_shp = gp.read_file(\"cb_2016_us_ua10_500k.shp\")\n",
    "us_urb_shp = us_urb_shp.to_crs(epsg=2163)\n",
    "\n",
    "us_states_shp = gp.read_file(\"cb_2016_us_state_500k.shp\")\n",
    "us_states_shp = us_states_shp.to_crs(epsg=2163)\n",
    "us_states_shp = us_states_shp[(us_states_shp.NAME != 'Hawaii') & \n",
    "                              (us_states_shp.NAME != 'United States Virgin Islands') &\n",
    "                              (us_states_shp.NAME != 'Commonwealth of the Northern Mariana Islands') &\n",
    "                              (us_states_shp.NAME != 'Commonwealth of the Northern Mariana Islands') &\n",
    "                              (us_states_shp.NAME != 'Guam') &\n",
    "                              (us_states_shp.NAME != 'Hawaii') &\n",
    "                              (us_states_shp.NAME != 'American Samoa') &\n",
    "                              (us_states_shp.NAME != 'Alaska')]\n",
    "\n",
    "\n",
    "print us_states_shp.crs, us_urb_shp.crs"
   ]
  },
  {
   "cell_type": "code",
   "execution_count": 26,
   "metadata": {
    "collapsed": false,
    "scrolled": false
   },
   "outputs": [],
   "source": [
    "urban_areas = gp.sjoin(us_urb_shp,games_g, op='contains') "
   ]
  },
  {
   "cell_type": "code",
   "execution_count": 27,
   "metadata": {
    "collapsed": false
   },
   "outputs": [
    {
     "data": {
      "text/html": [
       "<div>\n",
       "<table border=\"1\" class=\"dataframe\">\n",
       "  <thead>\n",
       "    <tr style=\"text-align: right;\">\n",
       "      <th></th>\n",
       "      <th>AFFGEOID10</th>\n",
       "      <th>ALAND10</th>\n",
       "      <th>AWATER10</th>\n",
       "      <th>GEOID10</th>\n",
       "      <th>LSAD10</th>\n",
       "      <th>NAME10</th>\n",
       "      <th>UACE10</th>\n",
       "      <th>UATYP10</th>\n",
       "      <th>geometry</th>\n",
       "      <th>index_right</th>\n",
       "      <th>game_center</th>\n",
       "      <th>geo_location</th>\n",
       "      <th>population_2015</th>\n",
       "      <th>land_miles</th>\n",
       "      <th>density_per_mile</th>\n",
       "      <th>HH_Income</th>\n",
       "      <th>lon</th>\n",
       "      <th>lat</th>\n",
       "    </tr>\n",
       "  </thead>\n",
       "  <tbody>\n",
       "    <tr>\n",
       "      <th>172</th>\n",
       "      <td>400C100US15670</td>\n",
       "      <td>1919692462</td>\n",
       "      <td>92391183</td>\n",
       "      <td>15670</td>\n",
       "      <td>75</td>\n",
       "      <td>Charlotte, NC--SC</td>\n",
       "      <td>15670</td>\n",
       "      <td>U</td>\n",
       "      <td>(POLYGON ((1764560.563326363 -908174.160956141...</td>\n",
       "      <td>21</td>\n",
       "      <td>Spectrum Center</td>\n",
       "      <td>Charlotte, NC</td>\n",
       "      <td>132,609.00</td>\n",
       "      <td>109.0</td>\n",
       "      <td>1,216.60</td>\n",
       "      <td>46,119.00</td>\n",
       "      <td>-80.839235</td>\n",
       "      <td>35.225143</td>\n",
       "    </tr>\n",
       "    <tr>\n",
       "      <th>202</th>\n",
       "      <td>400C100US78904</td>\n",
       "      <td>1356901554</td>\n",
       "      <td>24532171</td>\n",
       "      <td>78904</td>\n",
       "      <td>75</td>\n",
       "      <td>San Francisco--Oakland, CA</td>\n",
       "      <td>78904</td>\n",
       "      <td>U</td>\n",
       "      <td>(POLYGON ((-1918879.865411957 -514372.56760230...</td>\n",
       "      <td>20</td>\n",
       "      <td>ORACLE Arena</td>\n",
       "      <td>Oakland, CA</td>\n",
       "      <td>419,267.00</td>\n",
       "      <td>55.9</td>\n",
       "      <td>7,500.30</td>\n",
       "      <td>63,024.00</td>\n",
       "      <td>-122.203049</td>\n",
       "      <td>37.750292</td>\n",
       "    </tr>\n",
       "    <tr>\n",
       "      <th>314</th>\n",
       "      <td>400C100US78580</td>\n",
       "      <td>1546746851</td>\n",
       "      <td>10023168</td>\n",
       "      <td>78580</td>\n",
       "      <td>75</td>\n",
       "      <td>San Antonio, TX</td>\n",
       "      <td>78580</td>\n",
       "      <td>U</td>\n",
       "      <td>(POLYGON ((184514.3364000619 -1686972.49897577...</td>\n",
       "      <td>13</td>\n",
       "      <td>AT&amp;T Center</td>\n",
       "      <td>San Antonio, TX</td>\n",
       "      <td>1,469,845.00</td>\n",
       "      <td>460.9</td>\n",
       "      <td>3,189.08</td>\n",
       "      <td>39,140.00</td>\n",
       "      <td>-98.437445</td>\n",
       "      <td>29.427071</td>\n",
       "    </tr>\n",
       "  </tbody>\n",
       "</table>\n",
       "</div>"
      ],
      "text/plain": [
       "         AFFGEOID10     ALAND10  AWATER10 GEOID10 LSAD10  \\\n",
       "172  400C100US15670  1919692462  92391183   15670     75   \n",
       "202  400C100US78904  1356901554  24532171   78904     75   \n",
       "314  400C100US78580  1546746851  10023168   78580     75   \n",
       "\n",
       "                         NAME10 UACE10 UATYP10  \\\n",
       "172           Charlotte, NC--SC  15670       U   \n",
       "202  San Francisco--Oakland, CA  78904       U   \n",
       "314             San Antonio, TX  78580       U   \n",
       "\n",
       "                                              geometry  index_right  \\\n",
       "172  (POLYGON ((1764560.563326363 -908174.160956141...           21   \n",
       "202  (POLYGON ((-1918879.865411957 -514372.56760230...           20   \n",
       "314  (POLYGON ((184514.3364000619 -1686972.49897577...           13   \n",
       "\n",
       "         game_center     geo_location population_2015  land_miles  \\\n",
       "172  Spectrum Center    Charlotte, NC      132,609.00       109.0   \n",
       "202     ORACLE Arena      Oakland, CA      419,267.00        55.9   \n",
       "314      AT&T Center  San Antonio, TX    1,469,845.00       460.9   \n",
       "\n",
       "    density_per_mile  HH_Income         lon        lat  \n",
       "172         1,216.60  46,119.00  -80.839235  35.225143  \n",
       "202         7,500.30  63,024.00 -122.203049  37.750292  \n",
       "314         3,189.08  39,140.00  -98.437445  29.427071  "
      ]
     },
     "execution_count": 27,
     "metadata": {},
     "output_type": "execute_result"
    }
   ],
   "source": [
    "urban_areas.head(3)"
   ]
  },
  {
   "cell_type": "code",
   "execution_count": 28,
   "metadata": {
    "collapsed": false
   },
   "outputs": [
    {
     "data": {
      "text/html": [
       "<div>\n",
       "<table border=\"1\" class=\"dataframe\">\n",
       "  <thead>\n",
       "    <tr style=\"text-align: right;\">\n",
       "      <th></th>\n",
       "      <th>game_center</th>\n",
       "      <th>geo_location</th>\n",
       "      <th>population_2015</th>\n",
       "      <th>land_miles</th>\n",
       "      <th>density_per_mile</th>\n",
       "      <th>HH_Income</th>\n",
       "      <th>lon</th>\n",
       "      <th>lat</th>\n",
       "      <th>geometry</th>\n",
       "    </tr>\n",
       "  </thead>\n",
       "  <tbody>\n",
       "    <tr>\n",
       "      <th>0</th>\n",
       "      <td>Golden 1 Center</td>\n",
       "      <td>SACRAMENTO, CA</td>\n",
       "      <td>490,712.00</td>\n",
       "      <td>97.90</td>\n",
       "      <td>5,012.38</td>\n",
       "      <td>46,106.00</td>\n",
       "      <td>-121.499619</td>\n",
       "      <td>38.580641</td>\n",
       "      <td>POINT (-1846055.443413501 -472583.6504320072)</td>\n",
       "    </tr>\n",
       "    <tr>\n",
       "      <th>1</th>\n",
       "      <td>Greensboro Coliseum</td>\n",
       "      <td>Greensboro, NC</td>\n",
       "      <td>269,666.00</td>\n",
       "      <td>126.48</td>\n",
       "      <td>2,132.00</td>\n",
       "      <td>40,913.00</td>\n",
       "      <td>-79.825550</td>\n",
       "      <td>36.059723</td>\n",
       "      <td>POINT (1797594.52121978 -775859.5169488323)</td>\n",
       "    </tr>\n",
       "    <tr>\n",
       "      <th>2</th>\n",
       "      <td>Mullins Center</td>\n",
       "      <td>Amherst, MA</td>\n",
       "      <td>37,819.00</td>\n",
       "      <td>27.80</td>\n",
       "      <td>1,360.40</td>\n",
       "      <td>52,537.00</td>\n",
       "      <td>-72.533446</td>\n",
       "      <td>42.389382</td>\n",
       "      <td>POINT (2203570.831694617 86164.26556559556)</td>\n",
       "    </tr>\n",
       "  </tbody>\n",
       "</table>\n",
       "</div>"
      ],
      "text/plain": [
       "           game_center    geo_location population_2015  land_miles  \\\n",
       "0      Golden 1 Center  SACRAMENTO, CA      490,712.00       97.90   \n",
       "1  Greensboro Coliseum  Greensboro, NC      269,666.00      126.48   \n",
       "2       Mullins Center     Amherst, MA       37,819.00       27.80   \n",
       "\n",
       "  density_per_mile  HH_Income         lon        lat  \\\n",
       "0         5,012.38  46,106.00 -121.499619  38.580641   \n",
       "1         2,132.00  40,913.00  -79.825550  36.059723   \n",
       "2         1,360.40  52,537.00  -72.533446  42.389382   \n",
       "\n",
       "                                        geometry  \n",
       "0  POINT (-1846055.443413501 -472583.6504320072)  \n",
       "1    POINT (1797594.52121978 -775859.5169488323)  \n",
       "2    POINT (2203570.831694617 86164.26556559556)  "
      ]
     },
     "execution_count": 28,
     "metadata": {},
     "output_type": "execute_result"
    }
   ],
   "source": [
    "games_g.head(3)"
   ]
  },
  {
   "cell_type": "code",
   "execution_count": 29,
   "metadata": {
    "collapsed": false
   },
   "outputs": [
    {
     "data": {
      "text/plain": [
       "<matplotlib.axes._subplots.AxesSubplot at 0x12188a9d0>"
      ]
     },
     "execution_count": 29,
     "metadata": {},
     "output_type": "execute_result"
    },
    {
     "data": {
      "image/png": "[encoded data removed]",
      "text/plain": [
       "<matplotlib.figure.Figure at 0x12188a190>"
      ]
     },
     "metadata": {},
     "output_type": "display_data"
    }
   ],
   "source": [
    "f, ax = plt.subplots(figsize=(15,7))\n",
    "ax.get_xaxis().set_visible(False)\n",
    "ax.get_yaxis().set_visible(False)\n",
    "urban_areas.geometry.plot(alpha=1,color='grey',linewidth=0.1,ax=ax)\n",
    "us_states_shp.geometry.plot(alpha=.1,color='white',linewidth=0.3,ax=ax)\n",
    "games_g.geometry.plot(markersize=6,color='red',label = 'Stadiums', ax=ax)"
   ]
  },
  {
   "cell_type": "code",
   "execution_count": 30,
   "metadata": {
    "collapsed": true
   },
   "outputs": [],
   "source": [
    "population.to_csv('Std_Loc_Pop.csv')"
   ]
  },
  {
   "cell_type": "code",
   "execution_count": 31,
   "metadata": {
    "collapsed": true
   },
   "outputs": [],
   "source": [
    "stadium_lonlat.to_csv('stadium_coord.csv')"
   ]
  },
  {
   "cell_type": "code",
   "execution_count": 32,
   "metadata": {
    "collapsed": false
   },
   "outputs": [],
   "source": [
    "games_g.to_csv('city_charac.csv')"
   ]
  },
  {
   "cell_type": "code",
   "execution_count": 34,
   "metadata": {
    "collapsed": true
   },
   "outputs": [],
   "source": [
    "HHI.to_csv('Std_Loc_HHI.csv')"
   ]
  },
  {
   "cell_type": "code",
   "execution_count": 36,
   "metadata": {
    "collapsed": false
   },
   "outputs": [],
   "source": [
    "geo_stats.to_csv('Std_City_Stats.csv')"
   ]
  },
  {
   "cell_type": "code",
   "execution_count": null,
   "metadata": {
    "collapsed": true
   },
   "outputs": [],
   "source": []
  }
 ],
 "metadata": {
  "kernelspec": {
   "display_name": "Python 2",
   "language": "python",
   "name": "python2"
  },
  "language_info": {
   "codemirror_mode": {
    "name": "ipython",
    "version": 2
   },
   "file_extension": ".py",
   "mimetype": "text/x-python",
   "name": "python",
   "nbconvert_exporter": "python",
   "pygments_lexer": "ipython2",
   "version": "2.7.13"
  }
 },
 "nbformat": 4,
 "nbformat_minor": 2
}
