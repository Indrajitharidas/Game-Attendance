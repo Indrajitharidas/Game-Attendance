{
 "cells": [
  {
   "cell_type": "code",
   "execution_count": 1,
   "metadata": {
    "collapsed": true
   },
   "outputs": [],
   "source": [
    "import pandas as pd, numpy as np"
   ]
  },
  {
   "cell_type": "code",
   "execution_count": 3,
   "metadata": {
    "collapsed": false
   },
   "outputs": [],
   "source": [
    "df = pd.read_csv(\"data/game_raw.csv\")\n",
    "df = df.drop(df.columns[0],axis = 1)"
   ]
  },
  {
   "cell_type": "code",
   "execution_count": 22,
   "metadata": {
    "collapsed": false
   },
   "outputs": [
    {
     "data": {
      "text/html": [
       "<div>\n",
       "<table border=\"1\" class=\"dataframe\">\n",
       "  <thead>\n",
       "    <tr style=\"text-align: right;\">\n",
       "      <th></th>\n",
       "      <th>date</th>\n",
       "      <th>game_center</th>\n",
       "      <th>geo_location</th>\n",
       "      <th>attendance</th>\n",
       "      <th>capacity</th>\n",
       "      <th>guest</th>\n",
       "      <th>home</th>\n",
       "    </tr>\n",
       "  </thead>\n",
       "  <tbody>\n",
       "    <tr>\n",
       "      <th>0</th>\n",
       "      <td>2016-10-11 21:30:00</td>\n",
       "      <td>Golden 1 Center</td>\n",
       "      <td>SACRAMENTO, CA</td>\n",
       "      <td>16000</td>\n",
       "      <td>17500</td>\n",
       "      <td>Haifa</td>\n",
       "      <td>Kings</td>\n",
       "    </tr>\n",
       "    <tr>\n",
       "      <th>1</th>\n",
       "      <td>2016-10-19 21:00:00</td>\n",
       "      <td>Golden 1 Center</td>\n",
       "      <td>SACRAMENTO, CA</td>\n",
       "      <td>16000</td>\n",
       "      <td>17500</td>\n",
       "      <td>Clippers</td>\n",
       "      <td>Kings</td>\n",
       "    </tr>\n",
       "    <tr>\n",
       "      <th>2</th>\n",
       "      <td>2016-10-07 18:30:00</td>\n",
       "      <td>Greensboro Coliseum</td>\n",
       "      <td>Greensboro, NC</td>\n",
       "      <td>8021</td>\n",
       "      <td>23309</td>\n",
       "      <td>Celtics</td>\n",
       "      <td>Hornets</td>\n",
       "    </tr>\n",
       "    <tr>\n",
       "      <th>3</th>\n",
       "      <td>2016-10-05 18:00:00</td>\n",
       "      <td>Mullins Center</td>\n",
       "      <td>Amherst, MA</td>\n",
       "      <td>4532</td>\n",
       "      <td>9493</td>\n",
       "      <td>Celtics</td>\n",
       "      <td>76ers</td>\n",
       "    </tr>\n",
       "    <tr>\n",
       "      <th>4</th>\n",
       "      <td>2016-10-15 18:00:00</td>\n",
       "      <td>Air Canada Centre</td>\n",
       "      <td>Toronto, ON</td>\n",
       "      <td>15113</td>\n",
       "      <td>19800</td>\n",
       "      <td>Lorenz</td>\n",
       "      <td>Raptors</td>\n",
       "    </tr>\n",
       "  </tbody>\n",
       "</table>\n",
       "</div>"
      ],
      "text/plain": [
       "                  date          game_center    geo_location  attendance  \\\n",
       "0  2016-10-11 21:30:00      Golden 1 Center  SACRAMENTO, CA       16000   \n",
       "1  2016-10-19 21:00:00      Golden 1 Center  SACRAMENTO, CA       16000   \n",
       "2  2016-10-07 18:30:00  Greensboro Coliseum  Greensboro, NC        8021   \n",
       "3  2016-10-05 18:00:00       Mullins Center     Amherst, MA        4532   \n",
       "4  2016-10-15 18:00:00    Air Canada Centre     Toronto, ON       15113   \n",
       "\n",
       "   capacity     guest     home  \n",
       "0     17500     Haifa    Kings  \n",
       "1     17500  Clippers    Kings  \n",
       "2     23309   Celtics  Hornets  \n",
       "3      9493   Celtics    76ers  \n",
       "4     19800    Lorenz  Raptors  "
      ]
     },
     "execution_count": 22,
     "metadata": {},
     "output_type": "execute_result"
    }
   ],
   "source": [
    "df.head()"
   ]
  },
  {
   "cell_type": "code",
   "execution_count": 9,
   "metadata": {
    "collapsed": false
   },
   "outputs": [
    {
     "name": "stdout",
     "output_type": "stream",
     "text": [
      "Haifa\n",
      "Clippers\n",
      "Celtics\n",
      "Lorenz\n",
      "Bucks\n",
      "Bulls\n",
      "Pacers\n",
      "Cavaliers\n",
      "Hornets\n",
      "Spurs\n",
      "Pistons\n",
      "Raptors\n",
      "Magic\n",
      "Hawks\n",
      "Pelicans\n",
      "Nets\n",
      "Knicks\n",
      "Mavericks\n",
      "Rockets\n",
      "Nuggets\n",
      "Blazers\n",
      "Timberwolves\n",
      "Heat\n",
      "Grizzlies\n",
      "Shanghai\n",
      "Jazz\n",
      "76ers\n",
      "Suns\n",
      "Thunder\n",
      "Lakers\n",
      "Wizards\n",
      "Kings\n",
      "Warriors\n"
     ]
    }
   ],
   "source": [
    "for i in df[\"guest\"].drop_duplicates():\n",
    "    "
   ]
  },
  {
   "cell_type": "code",
   "execution_count": 18,
   "metadata": {
    "collapsed": false
   },
   "outputs": [],
   "source": [
    "sac_1 = df[df[\"guest\"] == \"Kings\"]\n",
    "sac_2 = df[df[\"home\"] == \"Kings\"]"
   ]
  },
  {
   "cell_type": "code",
   "execution_count": 21,
   "metadata": {
    "collapsed": false
   },
   "outputs": [
    {
     "data": {
      "text/plain": [
       "38"
      ]
     },
     "execution_count": 21,
     "metadata": {},
     "output_type": "execute_result"
    }
   ],
   "source": [
    "sac"
   ]
  },
  {
   "cell_type": "code",
   "execution_count": 15,
   "metadata": {
    "collapsed": false
   },
   "outputs": [
    {
     "ename": "SyntaxError",
     "evalue": "invalid syntax (<ipython-input-15-7487e323ecb0>, line 1)",
     "output_type": "error",
     "traceback": [
      "\u001b[0;36m  File \u001b[0;32m\"<ipython-input-15-7487e323ecb0>\"\u001b[0;36m, line \u001b[0;32m1\u001b[0m\n\u001b[0;31m    df[\"guest\"] == \"Kings\" or df[\"home\"] == \"Kings\"]\u001b[0m\n\u001b[0m                                                   ^\u001b[0m\n\u001b[0;31mSyntaxError\u001b[0m\u001b[0;31m:\u001b[0m invalid syntax\n"
     ]
    }
   ],
   "source": [
    "df[\"guest\"] == \"Kings\" or df[\"home\"] == \"Kings\"]"
   ]
  },
  {
   "cell_type": "code",
   "execution_count": 11,
   "metadata": {
    "collapsed": false
   },
   "outputs": [
    {
     "data": {
      "text/plain": [
       "1292"
      ]
     },
     "execution_count": 11,
     "metadata": {},
     "output_type": "execute_result"
    }
   ],
   "source": [
    "len(df)"
   ]
  },
  {
   "cell_type": "code",
   "execution_count": 19,
   "metadata": {
    "collapsed": false
   },
   "outputs": [],
   "source": [
    "import pandasql as ps\n",
    "q = 'select * from df where guest = \"Kings\" union select * from df where home = \"Kings\"'\n",
    "Kings = ps.sqldf(q, globals())"
   ]
  },
  {
   "cell_type": "code",
   "execution_count": 21,
   "metadata": {
    "collapsed": false
   },
   "outputs": [
    {
     "data": {
      "text/plain": [
       "79"
      ]
     },
     "execution_count": 21,
     "metadata": {},
     "output_type": "execute_result"
    }
   ],
   "source": [
    "len(Kings)"
   ]
  },
  {
   "cell_type": "code",
   "execution_count": 26,
   "metadata": {
    "collapsed": true
   },
   "outputs": [],
   "source": [
    "q1 = 'select distinct game_center, capacity from df'"
   ]
  },
  {
   "cell_type": "code",
   "execution_count": 27,
   "metadata": {
    "collapsed": true
   },
   "outputs": [],
   "source": [
    "cap = ps.sqldf(q1, globals())"
   ]
  },
  {
   "cell_type": "code",
   "execution_count": 28,
   "metadata": {
    "collapsed": false
   },
   "outputs": [
    {
     "data": {
      "text/html": [
       "<div>\n",
       "<table border=\"1\" class=\"dataframe\">\n",
       "  <thead>\n",
       "    <tr style=\"text-align: right;\">\n",
       "      <th></th>\n",
       "      <th>game_center</th>\n",
       "      <th>capacity</th>\n",
       "    </tr>\n",
       "  </thead>\n",
       "  <tbody>\n",
       "    <tr>\n",
       "      <th>0</th>\n",
       "      <td>Golden 1 Center</td>\n",
       "      <td>17500</td>\n",
       "    </tr>\n",
       "    <tr>\n",
       "      <th>1</th>\n",
       "      <td>Greensboro Coliseum</td>\n",
       "      <td>23309</td>\n",
       "    </tr>\n",
       "    <tr>\n",
       "      <th>2</th>\n",
       "      <td>Mullins Center</td>\n",
       "      <td>9493</td>\n",
       "    </tr>\n",
       "    <tr>\n",
       "      <th>3</th>\n",
       "      <td>Air Canada Centre</td>\n",
       "      <td>19800</td>\n",
       "    </tr>\n",
       "    <tr>\n",
       "      <th>4</th>\n",
       "      <td>United Center</td>\n",
       "      <td>20917</td>\n",
       "    </tr>\n",
       "    <tr>\n",
       "      <th>5</th>\n",
       "      <td>Bankers Life Fieldhouse</td>\n",
       "      <td>18165</td>\n",
       "    </tr>\n",
       "    <tr>\n",
       "      <th>6</th>\n",
       "      <td>BMO Harris Bradley Center</td>\n",
       "      <td>18717</td>\n",
       "    </tr>\n",
       "    <tr>\n",
       "      <th>7</th>\n",
       "      <td>The Palace of Auburn Hills</td>\n",
       "      <td>22076</td>\n",
       "    </tr>\n",
       "    <tr>\n",
       "      <th>8</th>\n",
       "      <td>Philips Arena</td>\n",
       "      <td>18729</td>\n",
       "    </tr>\n",
       "    <tr>\n",
       "      <th>9</th>\n",
       "      <td>Wells Fargo Center</td>\n",
       "      <td>20318</td>\n",
       "    </tr>\n",
       "    <tr>\n",
       "      <th>10</th>\n",
       "      <td>FedExForum</td>\n",
       "      <td>18119</td>\n",
       "    </tr>\n",
       "    <tr>\n",
       "      <th>11</th>\n",
       "      <td>Quicken Loans Arena</td>\n",
       "      <td>20562</td>\n",
       "    </tr>\n",
       "    <tr>\n",
       "      <th>12</th>\n",
       "      <td>Amway Center</td>\n",
       "      <td>18500</td>\n",
       "    </tr>\n",
       "    <tr>\n",
       "      <th>13</th>\n",
       "      <td>AT&amp;T Center</td>\n",
       "      <td>18581</td>\n",
       "    </tr>\n",
       "    <tr>\n",
       "      <th>14</th>\n",
       "      <td>Mohegan Sun Arena</td>\n",
       "      <td>10000</td>\n",
       "    </tr>\n",
       "    <tr>\n",
       "      <th>15</th>\n",
       "      <td>Madison Square Garden</td>\n",
       "      <td>19763</td>\n",
       "    </tr>\n",
       "    <tr>\n",
       "      <th>16</th>\n",
       "      <td>TD Garden</td>\n",
       "      <td>18624</td>\n",
       "    </tr>\n",
       "    <tr>\n",
       "      <th>17</th>\n",
       "      <td>Talking Stick Resort Arena</td>\n",
       "      <td>18422</td>\n",
       "    </tr>\n",
       "    <tr>\n",
       "      <th>18</th>\n",
       "      <td>American Airlines Center</td>\n",
       "      <td>19200</td>\n",
       "    </tr>\n",
       "    <tr>\n",
       "      <th>19</th>\n",
       "      <td>Moda Center</td>\n",
       "      <td>19441</td>\n",
       "    </tr>\n",
       "    <tr>\n",
       "      <th>20</th>\n",
       "      <td>ORACLE Arena</td>\n",
       "      <td>19596</td>\n",
       "    </tr>\n",
       "    <tr>\n",
       "      <th>21</th>\n",
       "      <td>Spectrum Center</td>\n",
       "      <td>19077</td>\n",
       "    </tr>\n",
       "    <tr>\n",
       "      <th>22</th>\n",
       "      <td>Target Center</td>\n",
       "      <td>19356</td>\n",
       "    </tr>\n",
       "    <tr>\n",
       "      <th>23</th>\n",
       "      <td>Toyota Center</td>\n",
       "      <td>18104</td>\n",
       "    </tr>\n",
       "    <tr>\n",
       "      <th>24</th>\n",
       "      <td>STAPLES Center</td>\n",
       "      <td>19060</td>\n",
       "    </tr>\n",
       "    <tr>\n",
       "      <th>25</th>\n",
       "      <td>Vivint Smart Home Arena</td>\n",
       "      <td>19911</td>\n",
       "    </tr>\n",
       "    <tr>\n",
       "      <th>26</th>\n",
       "      <td>Chesapeake Energy Arena</td>\n",
       "      <td>18203</td>\n",
       "    </tr>\n",
       "    <tr>\n",
       "      <th>27</th>\n",
       "      <td>AmericanAirlines Arena</td>\n",
       "      <td>19600</td>\n",
       "    </tr>\n",
       "    <tr>\n",
       "      <th>28</th>\n",
       "      <td>Smoothie King Center</td>\n",
       "      <td>17188</td>\n",
       "    </tr>\n",
       "    <tr>\n",
       "      <th>29</th>\n",
       "      <td>Pepsi Center</td>\n",
       "      <td>19155</td>\n",
       "    </tr>\n",
       "    <tr>\n",
       "      <th>30</th>\n",
       "      <td>Verizon Center</td>\n",
       "      <td>20173</td>\n",
       "    </tr>\n",
       "  </tbody>\n",
       "</table>\n",
       "</div>"
      ],
      "text/plain": [
       "                   game_center  capacity\n",
       "0              Golden 1 Center     17500\n",
       "1          Greensboro Coliseum     23309\n",
       "2               Mullins Center      9493\n",
       "3            Air Canada Centre     19800\n",
       "4                United Center     20917\n",
       "5      Bankers Life Fieldhouse     18165\n",
       "6    BMO Harris Bradley Center     18717\n",
       "7   The Palace of Auburn Hills     22076\n",
       "8                Philips Arena     18729\n",
       "9           Wells Fargo Center     20318\n",
       "10                  FedExForum     18119\n",
       "11         Quicken Loans Arena     20562\n",
       "12                Amway Center     18500\n",
       "13                 AT&T Center     18581\n",
       "14           Mohegan Sun Arena     10000\n",
       "15       Madison Square Garden     19763\n",
       "16                   TD Garden     18624\n",
       "17  Talking Stick Resort Arena     18422\n",
       "18    American Airlines Center     19200\n",
       "19                 Moda Center     19441\n",
       "20                ORACLE Arena     19596\n",
       "21             Spectrum Center     19077\n",
       "22               Target Center     19356\n",
       "23               Toyota Center     18104\n",
       "24              STAPLES Center     19060\n",
       "25     Vivint Smart Home Arena     19911\n",
       "26     Chesapeake Energy Arena     18203\n",
       "27      AmericanAirlines Arena     19600\n",
       "28        Smoothie King Center     17188\n",
       "29                Pepsi Center     19155\n",
       "30              Verizon Center     20173"
      ]
     },
     "execution_count": 28,
     "metadata": {},
     "output_type": "execute_result"
    }
   ],
   "source": [
    "cap"
   ]
  },
  {
   "cell_type": "code",
   "execution_count": null,
   "metadata": {
    "collapsed": true
   },
   "outputs": [],
   "source": []
  }
 ],
 "metadata": {
  "kernelspec": {
   "display_name": "Python 2",
   "language": "python",
   "name": "python2"
  },
  "language_info": {
   "codemirror_mode": {
    "name": "ipython",
    "version": 2
   },
   "file_extension": ".py",
   "mimetype": "text/x-python",
   "name": "python",
   "nbconvert_exporter": "python",
   "pygments_lexer": "ipython2",
   "version": "2.7.13"
  }
 },
 "nbformat": 4,
 "nbformat_minor": 2
}
